{
  "nbformat": 4,
  "nbformat_minor": 0,
  "metadata": {
    "colab": {
      "provenance": [],
      "mount_file_id": "1Oe-fINvoueOj-PJNmTHusd0wjhgUnfus",
      "authorship_tag": "ABX9TyOPpYuI0JdNv9i5PAAlF5H+",
      "include_colab_link": true
    },
    "kernelspec": {
      "name": "python3",
      "display_name": "Python 3"
    },
    "language_info": {
      "name": "python"
    }
  },
  "cells": [
    {
      "cell_type": "markdown",
      "metadata": {
        "id": "view-in-github",
        "colab_type": "text"
      },
      "source": [
        "<a href=\"https://colab.research.google.com/github/Dopaminic/AI_python/blob/main/IAIP.ipynb\" target=\"_parent\"><img src=\"https://colab.research.google.com/assets/colab-badge.svg\" alt=\"Open In Colab\"/></a>"
      ]
    },
    {
      "cell_type": "code",
      "execution_count": 18,
      "metadata": {
        "colab": {
          "base_uri": "https://localhost:8080/"
        },
        "id": "ZW44-W6Ckjza",
        "outputId": "12bbacdb-0bc9-4b7f-f209-0a228b2c9724"
      },
      "outputs": [
        {
          "output_type": "stream",
          "name": "stdout",
          "text": [
            "What is nlp???  \n",
            "Natural Language Processing, or NLP for short, is broadly defined as the automatic manipulation of natural language, like speech and text, by software.\n",
            "The study of natural language processing has been around for more than 50 years and grew out of the field of linguistics with the rise of computers.\n",
            "(In this post), you will discover what natural language processing is and why it is so important.\n",
            "After reading this post, you will know => What natural language is and how it is different from other types of data.\n"
          ]
        }
      ],
      "source": [
        "from bs4 import BeautifulSoup\n",
        "\n",
        "str_data = '<html><h2>What is nlp??? </h2></html> \\nNatural Language Processing, or NLP for short, is broadly defined as the automatic manipulation of natural language, like speech and text, by software.\\nThe study of natural language processing has been around for more than 50 years and grew out of the field of linguistics with the rise of computers.\\n(In this post), you will discover what natural language processing is and why it is so important.\\nAfter reading this post, you will know => What natural language is and how it is different from other types of data.'\n",
        "\n",
        "def remove_html(text_data):\n",
        "  \"\"\"\n",
        "  remove_html takes raw text and removes html tags from the text.\n",
        "  \"\"\"\n",
        "  soup = BeautifulSoup(text_data, 'lxml')\n",
        "  return soup.get_text ()\n",
        "\n",
        "processed_text = remove_html(str_data)\n",
        "print(processed_text)\n"
      ]
    },
    {
      "cell_type": "code",
      "source": [
        "import requests, string, nltk\n",
        "## Check English's punctuation\n",
        "print('Punctuation: ', string.punctuation)\n",
        "\n",
        "def remove_punctuation(text):\n",
        "  sent = []\n",
        "  for t in text.split(' '):\n",
        "    no_punct = \"\".join([c for c in t if c not in string.punctuation])\n",
        "    sent.append(no_punct)\n",
        "\n",
        "  sentence = \" \".join(s for s in sent)\n",
        "  return sentence\n",
        "\n",
        "rmv_punc_sentence = remove_punctuation(processed_text)\n",
        "print(rmv_punc_sentence)\n",
        "\n",
        "lower_sentence = rmv_punc_sentence.lower()\n",
        "print(lower_sentence)\n",
        "\n"
      ],
      "metadata": {
        "colab": {
          "base_uri": "https://localhost:8080/"
        },
        "id": "mNyVH5Fy3_6q",
        "outputId": "33180199-b694-4b2d-94e3-fd0357af64c6"
      },
      "execution_count": 19,
      "outputs": [
        {
          "output_type": "stream",
          "name": "stdout",
          "text": [
            "Punctuation:  !\"#$%&'()*+,-./:;<=>?@[\\]^_`{|}~\n",
            "What is nlp  \n",
            "Natural Language Processing or NLP for short is broadly defined as the automatic manipulation of natural language like speech and text by software\n",
            "The study of natural language processing has been around for more than 50 years and grew out of the field of linguistics with the rise of computers\n",
            "In this post you will discover what natural language processing is and why it is so important\n",
            "After reading this post you will know  What natural language is and how it is different from other types of data\n",
            "what is nlp  \n",
            "natural language processing or nlp for short is broadly defined as the automatic manipulation of natural language like speech and text by software\n",
            "the study of natural language processing has been around for more than 50 years and grew out of the field of linguistics with the rise of computers\n",
            "in this post you will discover what natural language processing is and why it is so important\n",
            "after reading this post you will know  what natural language is and how it is different from other types of data\n"
          ]
        }
      ]
    },
    {
      "cell_type": "code",
      "source": [
        "import spacy\n",
        "\n",
        "nlp = spacy.load('en_core_web_sm')\n",
        "\n",
        "doc = nlp(lower_sentence.strip())\n",
        "\n",
        "tok_lem_sentence = [(token.text, token.lemma_) for token in doc]\n",
        "tok_lem_sentence[:15]"
      ],
      "metadata": {
        "colab": {
          "base_uri": "https://localhost:8080/"
        },
        "id": "H3NOeUIz4Eu-",
        "outputId": "15ac3147-b00a-436b-b92c-6a7907b6c998"
      },
      "execution_count": 20,
      "outputs": [
        {
          "output_type": "execute_result",
          "data": {
            "text/plain": [
              "[('what', 'what'),\n",
              " ('is', 'be'),\n",
              " ('nlp', 'nlp'),\n",
              " (' \\n', ' \\n'),\n",
              " ('natural', 'natural'),\n",
              " ('language', 'language'),\n",
              " ('processing', 'processing'),\n",
              " ('or', 'or'),\n",
              " ('nlp', 'nlp'),\n",
              " ('for', 'for'),\n",
              " ('short', 'short'),\n",
              " ('is', 'be'),\n",
              " ('broadly', 'broadly'),\n",
              " ('defined', 'define'),\n",
              " ('as', 'as')]"
            ]
          },
          "metadata": {},
          "execution_count": 20
        }
      ]
    },
    {
      "cell_type": "code",
      "source": [
        "from nltk.corpus import stopwords\n",
        "nltk.download('stopwords')\n",
        "\n",
        "print(stopwords.words('english'[:10]))\n",
        "print(len(stopwords.words('english')))\n",
        "\n",
        "stop_words = set(stopwords.words('english'))\n",
        "\n",
        "print(tok_lem_sentence, '/n')\n",
        "rmv_sw_sentence = [w[1] for w in tok_lem_sentence if not w[0] in stop_words]\n",
        "print(rmv_sw_sentence)\n",
        "removed_word = [w[1] for w in tok_lem_sentence if w[0] in stop_words]\n",
        "print(\"\\nRemoved word: \", set(removed_word))"
      ],
      "metadata": {
        "colab": {
          "base_uri": "https://localhost:8080/"
        },
        "id": "Gpsfd5Lc4uF9",
        "outputId": "0b879f2f-153e-4815-bafd-32a5600f65e4"
      },
      "execution_count": 31,
      "outputs": [
        {
          "output_type": "stream",
          "name": "stdout",
          "text": [
            "['i', 'me', 'my', 'myself', 'we', 'our', 'ours', 'ourselves', 'you', \"you're\", \"you've\", \"you'll\", \"you'd\", 'your', 'yours', 'yourself', 'yourselves', 'he', 'him', 'his', 'himself', 'she', \"she's\", 'her', 'hers', 'herself', 'it', \"it's\", 'its', 'itself', 'they', 'them', 'their', 'theirs', 'themselves', 'what', 'which', 'who', 'whom', 'this', 'that', \"that'll\", 'these', 'those', 'am', 'is', 'are', 'was', 'were', 'be', 'been', 'being', 'have', 'has', 'had', 'having', 'do', 'does', 'did', 'doing', 'a', 'an', 'the', 'and', 'but', 'if', 'or', 'because', 'as', 'until', 'while', 'of', 'at', 'by', 'for', 'with', 'about', 'against', 'between', 'into', 'through', 'during', 'before', 'after', 'above', 'below', 'to', 'from', 'up', 'down', 'in', 'out', 'on', 'off', 'over', 'under', 'again', 'further', 'then', 'once', 'here', 'there', 'when', 'where', 'why', 'how', 'all', 'any', 'both', 'each', 'few', 'more', 'most', 'other', 'some', 'such', 'no', 'nor', 'not', 'only', 'own', 'same', 'so', 'than', 'too', 'very', 's', 't', 'can', 'will', 'just', 'don', \"don't\", 'should', \"should've\", 'now', 'd', 'll', 'm', 'o', 're', 've', 'y', 'ain', 'aren', \"aren't\", 'couldn', \"couldn't\", 'didn', \"didn't\", 'doesn', \"doesn't\", 'hadn', \"hadn't\", 'hasn', \"hasn't\", 'haven', \"haven't\", 'isn', \"isn't\", 'ma', 'mightn', \"mightn't\", 'mustn', \"mustn't\", 'needn', \"needn't\", 'shan', \"shan't\", 'shouldn', \"shouldn't\", 'wasn', \"wasn't\", 'weren', \"weren't\", 'won', \"won't\", 'wouldn', \"wouldn't\"]\n",
            "179\n",
            "[('what', 'what'), ('is', 'be'), ('nlp', 'nlp'), (' \\n', ' \\n'), ('natural', 'natural'), ('language', 'language'), ('processing', 'processing'), ('or', 'or'), ('nlp', 'nlp'), ('for', 'for'), ('short', 'short'), ('is', 'be'), ('broadly', 'broadly'), ('defined', 'define'), ('as', 'as'), ('the', 'the'), ('automatic', 'automatic'), ('manipulation', 'manipulation'), ('of', 'of'), ('natural', 'natural'), ('language', 'language'), ('like', 'like'), ('speech', 'speech'), ('and', 'and'), ('text', 'text'), ('by', 'by'), ('software', 'software'), ('\\n', '\\n'), ('the', 'the'), ('study', 'study'), ('of', 'of'), ('natural', 'natural'), ('language', 'language'), ('processing', 'processing'), ('has', 'have'), ('been', 'be'), ('around', 'around'), ('for', 'for'), ('more', 'more'), ('than', 'than'), ('50', '50'), ('years', 'year'), ('and', 'and'), ('grew', 'grow'), ('out', 'out'), ('of', 'of'), ('the', 'the'), ('field', 'field'), ('of', 'of'), ('linguistics', 'linguistic'), ('with', 'with'), ('the', 'the'), ('rise', 'rise'), ('of', 'of'), ('computers', 'computer'), ('\\n', '\\n'), ('in', 'in'), ('this', 'this'), ('post', 'post'), ('you', 'you'), ('will', 'will'), ('discover', 'discover'), ('what', 'what'), ('natural', 'natural'), ('language', 'language'), ('processing', 'processing'), ('is', 'be'), ('and', 'and'), ('why', 'why'), ('it', 'it'), ('is', 'be'), ('so', 'so'), ('important', 'important'), ('\\n', '\\n'), ('after', 'after'), ('reading', 'read'), ('this', 'this'), ('post', 'post'), ('you', 'you'), ('will', 'will'), ('know', 'know'), (' ', ' '), ('what', 'what'), ('natural', 'natural'), ('language', 'language'), ('is', 'be'), ('and', 'and'), ('how', 'how'), ('it', 'it'), ('is', 'be'), ('different', 'different'), ('from', 'from'), ('other', 'other'), ('types', 'type'), ('of', 'of'), ('data', 'datum')] /n\n",
            "['nlp', ' \\n', 'natural', 'language', 'processing', 'nlp', 'short', 'broadly', 'define', 'automatic', 'manipulation', 'natural', 'language', 'like', 'speech', 'text', 'software', '\\n', 'study', 'natural', 'language', 'processing', 'around', '50', 'year', 'grow', 'field', 'linguistic', 'rise', 'computer', '\\n', 'post', 'discover', 'natural', 'language', 'processing', 'important', '\\n', 'read', 'post', 'know', ' ', 'natural', 'language', 'different', 'type', 'datum']\n",
            "\n",
            "Removed word:  {'in', 'how', 'by', 'for', 'it', 'be', 'with', 'or', 'after', 'what', 'than', 'of', 'as', 'so', 'will', 'from', 'out', 'the', 'you', 'this', 'more', 'and', 'why', 'have', 'other'}\n"
          ]
        },
        {
          "output_type": "stream",
          "name": "stderr",
          "text": [
            "[nltk_data] Downloading package stopwords to /root/nltk_data...\n",
            "[nltk_data]   Package stopwords is already up-to-date!\n"
          ]
        }
      ]
    },
    {
      "cell_type": "code",
      "source": [
        "import numpy as np\n",
        "\n",
        "dictionary = {}\n",
        "\n",
        "def make_frequency_dict(text):\n",
        "  for word in text:\n",
        "    if word not in dictionary:\n",
        "      dictionary[word] = 0\n",
        "    dictionary[word] += 1\n",
        "\n",
        "make_frequency_dict(rmv_sw_sentence)\n",
        "len(dictionary)\n",
        "dictionary\n",
        "\n",
        "vocab_sorted = sorted(dictionary.items(), key=lambda x:x[1], reverse = True)\n",
        "vocab_sorted"
      ],
      "metadata": {
        "colab": {
          "base_uri": "https://localhost:8080/"
        },
        "id": "FMlXsr1D5TGR",
        "outputId": "6193b9f8-189b-41b8-eb9c-b55a945bd324"
      },
      "execution_count": 22,
      "outputs": [
        {
          "output_type": "execute_result",
          "data": {
            "text/plain": [
              "[('natural', 5),\n",
              " ('language', 5),\n",
              " ('processing', 3),\n",
              " ('\\n', 3),\n",
              " ('nlp', 2),\n",
              " ('post', 2),\n",
              " (' \\n', 1),\n",
              " ('short', 1),\n",
              " ('broadly', 1),\n",
              " ('define', 1),\n",
              " ('automatic', 1),\n",
              " ('manipulation', 1),\n",
              " ('like', 1),\n",
              " ('speech', 1),\n",
              " ('text', 1),\n",
              " ('software', 1),\n",
              " ('study', 1),\n",
              " ('around', 1),\n",
              " ('50', 1),\n",
              " ('year', 1),\n",
              " ('grow', 1),\n",
              " ('field', 1),\n",
              " ('linguistic', 1),\n",
              " ('rise', 1),\n",
              " ('computer', 1),\n",
              " ('discover', 1),\n",
              " ('important', 1),\n",
              " ('read', 1),\n",
              " ('know', 1),\n",
              " (' ', 1),\n",
              " ('different', 1),\n",
              " ('type', 1),\n",
              " ('datum', 1)]"
            ]
          },
          "metadata": {},
          "execution_count": 22
        }
      ]
    },
    {
      "cell_type": "code",
      "source": [
        "word_to_index = {}\n",
        "i = 0\n",
        "\n",
        "for (word, frequency) in vocab_sorted:\n",
        "  if frequency > 1 :\n",
        "    i += 1\n",
        "    word_to_index[word] = i\n",
        "print(word_to_index)\n",
        "\n",
        "word_to_index['OOV'] = len(word_to_index) + 1\n",
        "print(word_to_index)"
      ],
      "metadata": {
        "colab": {
          "base_uri": "https://localhost:8080/"
        },
        "id": "yJM6i7iU5pcT",
        "outputId": "a0171d27-5802-45d3-8a99-8db96cbbb2dc"
      },
      "execution_count": 23,
      "outputs": [
        {
          "output_type": "stream",
          "name": "stdout",
          "text": [
            "{'natural': 1, 'language': 2, 'processing': 3, '\\n': 4, 'nlp': 5, 'post': 6}\n",
            "{'natural': 1, 'language': 2, 'processing': 3, '\\n': 4, 'nlp': 5, 'post': 6, 'OOV': 7}\n"
          ]
        }
      ]
    },
    {
      "cell_type": "code",
      "source": [
        "encoded = []\n",
        "print(rmv_sw_sentence)\n",
        "for w in rmv_sw_sentence:\n",
        "  encoded.append(word_to_index.get(w, word_to_index['OOV']))\n",
        "print(encoded)"
      ],
      "metadata": {
        "colab": {
          "base_uri": "https://localhost:8080/"
        },
        "id": "aaJyCbyW5zoT",
        "outputId": "732de7d6-f380-4afd-fff9-f3ae9691ee9a"
      },
      "execution_count": 24,
      "outputs": [
        {
          "output_type": "stream",
          "name": "stdout",
          "text": [
            "['nlp', ' \\n', 'natural', 'language', 'processing', 'nlp', 'short', 'broadly', 'define', 'automatic', 'manipulation', 'natural', 'language', 'like', 'speech', 'text', 'software', '\\n', 'study', 'natural', 'language', 'processing', 'around', '50', 'year', 'grow', 'field', 'linguistic', 'rise', 'computer', '\\n', 'post', 'discover', 'natural', 'language', 'processing', 'important', '\\n', 'read', 'post', 'know', ' ', 'natural', 'language', 'different', 'type', 'datum']\n",
            "[5, 7, 1, 2, 3, 5, 7, 7, 7, 7, 7, 1, 2, 7, 7, 7, 7, 4, 7, 1, 2, 3, 7, 7, 7, 7, 7, 7, 7, 7, 4, 6, 7, 1, 2, 3, 7, 4, 7, 6, 7, 7, 1, 2, 7, 7, 7]\n"
          ]
        }
      ]
    },
    {
      "cell_type": "code",
      "source": [
        "!pip install gensim\n",
        "import gensim\n",
        "from gensim.models import Word2Vec\n",
        "from gensim.utils import simple_preprocess\n",
        "\n",
        "sentences = [\n",
        "\"Be careful not to practice your righteousness in front of others to be seen by them If you do you will have no reward from your Father in heaven\",\n",
        "\"So when you give to the needy do not announce it with trumpets as the hypocrites do in the synagogues and on the streets to be honored by others Truly I tell you they have received their reward in full\",\n",
        "\"But when you give to the needy do not let your left hand know what your right hand is doing so that your giving may be in secret Then your Father who sees what is done in secret will reward you\",\n",
        "\"And when you pray do not be like the hypocrites for they love to pray standing in the synagogues and on the street corners to be seen by others Truly I tell you they have received their reward in full\",\n",
        "\"But when you pray go into your room close the door and pray to your Father who is unseen Then your Father who sees what is done in secret will reward you\",\n",
        "\"And when you pray do not keep on babbling like pagans for they think they will be heard because of their many words Do not be like them for your Father knows what you need before you ask him\",\n",
        "\"This then is how you should pray\",\n",
        "\"Our Father in heaven hallowed be your name your kingdom come your will be done on earth as it is in heaven Give us today our daily bread And forgive us our debts as we also have forgiven our debtors And lead us not into temptation but deliver us from the evil one\",\n",
        "\"For if you forgive other people when they sin against you your heavenly Father will also forgive you\",\n",
        "\"But if you do not forgive others their sins your Father will not forgive your sins\",\n",
        "\"When you fast do not look somber as the hypocrites do for they disfigure their faces to show others they are fasting Truly I tell you they have received their reward in full\",\n",
        "\"But when you fast put oil on your head and wash your face so that it will not be obvious to others that you are fasting but only to your Father who is unseen and your Father who sees what is done in secret will reward you\",\n",
        "\"Do not store up for yourselves treasures on earth where moths and vermin destroy and where thieves break in and steal\",\n",
        "\"But store up for yourselves treasures in heaven where moths and vermin do not destroy and where thieves do not break in and steal For where your treasure is there your heart will be also\",\n",
        "\"The eye is the lamp of the body If your eyes are healthy your whole body will be full of light\",\n",
        "\"But if your eyes are unhealthy your whole body will be full of darkness If then the light within you is darkness how great is that darkness\",\n",
        "\"No one can serve two masters Either you will hate the one and love the other or you will be devoted to the one and despise the other You cannot serve both God and money\",\n",
        "\"Therefore I tell you do not worry about your life what you will eat or drink or about your body what you will wear Is not life more than food and the body more than clothes\",\n",
        "\"Look at the birds of the air they do not sow or reap or store away in barns and yet your heavenly Father feeds them Are you not much more valuable than they\",\n",
        "\"Can any one of you by worrying add a single hour to your life\",\n",
        "\"And why do you worry about clothes See how the flowers of the field grow They do not labor or spin\",\n",
        "\"Yet I tell you that not even Solomon in all his splendor was dressed like one of these\",\n",
        "\"If that is how God clothes the grass of the field which is here today and tomorrow is thrown into the fire will he not much more clothe you—you of little faith\",\n",
        "\"So do not worry saying What shall we eat or What shall we drink or What shall we wear\",\n",
        "\"For the pagans run after all these things and your heavenly Father knows that you need them\",\n",
        "\"But seek first his kingdom and his righteousness and all these things will be given to you as well\",\n",
        "\"Therefore do not worry about tomorrow for tomorrow will worry about itself Each day has enough trouble of its own\"\n",
        "]\n",
        "\n",
        "tokenized_sentences = [simple_preprocess(sentence) for sentence in sentences]\n",
        "\n",
        "model = Word2Vec(sentences = tokenized_sentences, vector_size = 100, window = 5, min_count = 1, workers = 4)\n",
        "\n",
        "similar_words = model.wv.most_similar('faith', topn = 5)\n",
        "print(f\"Words most similar to 'word2vec': {similar_words}\")\n",
        "\n",
        "similarity = model.wv.similarity('faith', 'give')\n",
        "print(f\"Similarity between the two wards: {similarity}\")"
      ],
      "metadata": {
        "colab": {
          "base_uri": "https://localhost:8080/"
        },
        "id": "MGef78j8560W",
        "outputId": "7d31518c-055a-40ea-91fc-78fdd4b3d267"
      },
      "execution_count": 32,
      "outputs": [
        {
          "output_type": "stream",
          "name": "stdout",
          "text": [
            "Requirement already satisfied: gensim in /usr/local/lib/python3.10/dist-packages (4.3.2)\n",
            "Requirement already satisfied: numpy>=1.18.5 in /usr/local/lib/python3.10/dist-packages (from gensim) (1.25.2)\n",
            "Requirement already satisfied: scipy>=1.7.0 in /usr/local/lib/python3.10/dist-packages (from gensim) (1.11.4)\n",
            "Requirement already satisfied: smart-open>=1.8.1 in /usr/local/lib/python3.10/dist-packages (from gensim) (6.4.0)\n",
            "Words most similar to 'word2vec': [('lamp', 0.28284162282943726), ('is', 0.23174726963043213), ('despise', 0.2183786928653717), ('whole', 0.2105974406003952), ('evil', 0.20408344268798828)]\n",
            "Similarity between the two wards: -0.15157455205917358\n"
          ]
        }
      ]
    },
    {
      "cell_type": "code",
      "source": [
        "word_vector = model.wv['faith']\n",
        "print(f\"Vector representation of 'word2vec': {word_vector}\")\n",
        "\n",
        "vocab = list(model.wv.index_to_key)\n",
        "print(f\"Vocabulary: {vocab}\")\n"
      ],
      "metadata": {
        "colab": {
          "base_uri": "https://localhost:8080/"
        },
        "id": "iyLwPhIo6KKh",
        "outputId": "f04a51ff-071d-4d1f-d2ed-21ec2fca1352"
      },
      "execution_count": 26,
      "outputs": [
        {
          "output_type": "stream",
          "name": "stdout",
          "text": [
            "Vector representation of 'word2vec': [-0.0056755  -0.00826638 -0.00915298  0.00379124 -0.00217069  0.00963383\n",
            " -0.00820941  0.00515155  0.00953387  0.0029702  -0.00565649  0.00648765\n",
            "  0.00685388 -0.00756669  0.00396194 -0.00143258  0.00219368 -0.00854774\n",
            "  0.00076148 -0.0060312  -0.00681356 -0.00522335 -0.00930255 -0.00935273\n",
            " -0.00565238 -0.00412352  0.00188261 -0.00974641 -0.00310949 -0.0045515\n",
            "  0.00449779  0.00462821 -0.00412186  0.00852492 -0.00706794  0.00865432\n",
            " -0.00199032  0.00070295  0.00207171  0.00690386 -0.00415363 -0.00103651\n",
            "  0.00485524  0.00114699  0.00081935  0.00878539 -0.00836978 -0.00603853\n",
            " -0.00695298 -0.00761339 -0.00675022 -0.00014128 -0.00110848  0.00652218\n",
            "  0.00946799 -0.00053769  0.00061736 -0.0086329   0.00348209 -0.0065323\n",
            "  0.00597688  0.0002868   0.004935   -0.00662508  0.00228451 -0.00908144\n",
            " -0.00731483 -0.00247767 -0.00576591 -0.00583857 -0.0058863   0.00958526\n",
            "  0.0010163  -0.0017593  -0.0034525  -0.00187125 -0.0017161  -0.00441008\n",
            " -0.00483987 -0.00813112  0.00792916  0.00501041 -0.00613955  0.00030213\n",
            "  0.002537    0.00986856 -0.00233559  0.00901333  0.00719339 -0.00482459\n",
            " -0.00823435  0.00974694  0.0040298   0.0053621  -0.00379081  0.009179\n",
            " -0.00202117 -0.00618594  0.00778677  0.00905201]\n",
            "Vocabulary: ['you', 'your', 'the', 'and', 'not', 'will', 'do', 'in', 'be', 'is', 'to', 'they', 'father', 'of', 'what', 'for', 'but', 'or', 'when', 'that', 'reward', 'if', 'one', 'their', 'on', 'pray', 'others', 'full', 'who', 'tell', 'body', 'as', 'about', 'worry', 'have', 'are', 'forgive', 'where', 'more', 'like', 'done', 'how', 'our', 'us', 'we', 'secret', 'then', 'them', 'heaven', 'so', 'by', 'store', 'his', 'also', 'tomorrow', 'heavenly', 'darkness', 'give', 'these', 'it', 'life', 'clothes', 'shall', 'other', 'into', 'all', 'received', 'sees', 'hypocrites', 'truly', 'than', 'up', 'sins', 'moths', 'fast', 'destroy', 'yourselves', 'vermin', 'fasting', 'treasures', 'from', 'righteousness', 'today', 'earth', 'kingdom', 'need', 'knows', 'pagans', 'unseen', 'love', 'break', 'seen', 'hand', 'synagogues', 'needy', 'no', 'thieves', 'look', 'steal', 'wear', 'therefore', 'eat', 'serve', 'things', 'light', 'god', 'drink', 'much', 'whole', 'yet', 'eyes', 'field', 'can', 'see', 'flowers', 'why', 'left', 'hour', 'single', 'honored', 'add', 'streets', 'grow', 'let', 'any', 'worrying', 'know', 'spin', 'right', 'valuable', 'doing', 'giving', 'may', 'feeds', 'barns', 'away', 'reap', 'sow', 'labor', 'trumpets', 'even', 'front', 'after', 'seek', 'first', 'given', 'well', 'itself', 'each', 'solomon', 'day', 'has', 'practice', 'enough', 'trouble', 'careful', 'run', 'saying', 'faith', 'little', 'clothe', 'he', 'fire', 'thrown', 'here', 'which', 'grass', 'dressed', 'was', 'announce', 'splendor', 'with', 'birds', 'air', 'food', 'at', 'disfigure', 'forgiven', 'debtors', 'lead', 'temptation', 'deliver', 'evil', 'two', 'people', 'sin', 'against', 'great', 'within', 'its', 'somber', 'faces', 'standing', 'show', 'unhealthy', 'put', 'oil', 'head', 'wash', 'face', 'obvious', 'only', 'healthy', 'lamp', 'eye', 'heart', 'there', 'masters', 'either', 'debts', 'hate', 'street', 'corners', 'go', 'treasure', 'room', 'close', 'door', 'keep', 'babbling', 'think', 'heard', 'because', 'many', 'words', 'before', 'ask', 'him', 'this', 'money', 'should', 'hallowed', 'name', 'both', 'come', 'cannot', 'despise', 'devoted', 'daily', 'bread', 'own']\n"
          ]
        }
      ]
    },
    {
      "cell_type": "code",
      "source": [
        "import gensim.downloader as api\n",
        "pretrained_model = api.load('word2vec-google-news-300')"
      ],
      "metadata": {
        "colab": {
          "base_uri": "https://localhost:8080/"
        },
        "id": "iSkIDhT76MRg",
        "outputId": "90018bcd-dbb3-47c3-dff8-f75020d95011"
      },
      "execution_count": 27,
      "outputs": [
        {
          "output_type": "stream",
          "name": "stdout",
          "text": [
            "[==================================================] 100.0% 1662.8/1662.8MB downloaded\n"
          ]
        }
      ]
    },
    {
      "cell_type": "code",
      "source": [
        "model_path = '/content/drive/MyDrive/Colab_models/word2vec-google-news-300.model'\n",
        "pretrained_model.save(model_path)\n",
        "print(f\"Model saved to {model_path}\")"
      ],
      "metadata": {
        "colab": {
          "base_uri": "https://localhost:8080/"
        },
        "id": "pFP_Zx7C9iDN",
        "outputId": "0fb5515c-d91a-4772-9dde-a22b498f0364"
      },
      "execution_count": 29,
      "outputs": [
        {
          "output_type": "stream",
          "name": "stdout",
          "text": [
            "Model saved to /content/drive/MyDrive/Colab_models/word2vec-google-news-300.model\n"
          ]
        }
      ]
    },
    {
      "cell_type": "code",
      "source": [
        "from google.colab import drive\n",
        "drive.mount('/content/drive')"
      ],
      "metadata": {
        "colab": {
          "base_uri": "https://localhost:8080/"
        },
        "id": "Co0qarvq9tZA",
        "outputId": "48167f5c-e1e0-4f97-c919-3264099ad065"
      },
      "execution_count": 28,
      "outputs": [
        {
          "output_type": "stream",
          "name": "stdout",
          "text": [
            "Drive already mounted at /content/drive; to attempt to forcibly remount, call drive.mount(\"/content/drive\", force_remount=True).\n"
          ]
        }
      ]
    },
    {
      "cell_type": "code",
      "source": [
        "from gensim.models import KeyedVectors\n",
        "\n",
        "model_path = '/content/drive/MyDrive/Colab_models/word2vec-google-news-300.model'\n",
        "pretrained_model = KeyedVectors.load(model_path)\n",
        "print(\"Model loaded successfully\")"
      ],
      "metadata": {
        "colab": {
          "base_uri": "https://localhost:8080/"
        },
        "id": "QfxMDixh-lxO",
        "outputId": "a3d913cd-b00f-40ac-fb27-0319070bb517"
      },
      "execution_count": 30,
      "outputs": [
        {
          "output_type": "stream",
          "name": "stdout",
          "text": [
            "Model loaded successfully\n"
          ]
        }
      ]
    }
  ]
}